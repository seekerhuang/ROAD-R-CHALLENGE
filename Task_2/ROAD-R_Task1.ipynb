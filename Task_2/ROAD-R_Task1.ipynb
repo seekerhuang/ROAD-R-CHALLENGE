{
 "cells": [
  {
   "cell_type": "markdown",
   "metadata": {},
   "source": [
    "# Task 1"
   ]
  },
  {
   "cell_type": "markdown",
   "metadata": {},
   "source": [
    "### Training the model\n",
    "\n",
    "To train the model, provide the following positional arguments:\n",
    "   - `TASK`: set to 1, to use only 3 out of 15 videos from the training partition train_1.\n",
    "   - `DATA_ROOT`: path to a directory in which `road` can be found, containing `road_test_v1.0.json`, `road_trainval_v1.0.json`, and directories `rgb-images` and `videos`.\n",
    "   - `SAVE_ROOT`: path to a directory in which the experiments (e.g. checkpoints, training logs) will be saved.\n",
    "   - `MODEL_PATH`: path to the directory containing the weights for the chosen backbone (e.g. `resnet50RCGRU.pth`).\n",
    "\n",
    "The remaining arguments are optional and include `MODEL_TYPE`, `BATCH_SIZE`, `MAX_EPOCHS`."
   ]
  },
  {
   "cell_type": "code",
   "execution_count": null,
   "metadata": {
    "collapsed": false,
    "jupyter": {
     "outputs_hidden": false
    },
    "tags": []
   },
   "outputs": [],
   "source": [
    "DATA_ROOT=\"/root/autodl-tmp/road-dataset-master/road/\" # should contain a directory named road\n",
    "EXPDIR=\"../experiments/\" # the directory where the experiments will be stored; recommended for it to be located outside the repository, e.g. ../experiments/\n",
    "MODEL_PATH=\"F:/gta5/swin-large-p244-w877_in22k-pre_16xb8-amp-32x2x1-30e_kinetics700-rgb_20220930-f8d74db7.pth\" # should contain the .pth checkpoint for the specified args.MODEL_TYPE (e.g. resnet50RCGRU.pth if args.MODEL_TYPE==\"RCGRU\")\n",
    "pretrained_model_path=\"F:\\\\gta5\\\\swin-large-p244-w877_in22k-pre_16xb8-amp-32x2x1-30e_kinetics700-rgb_20220930-f8d74db7.pth\"\n",
    "pretrained_model_path2=\"F:\\\\A-ROAD-CHALL\\\\weights\\\\weights_task1\\\\pretrained_weights_task1.pth\"\n",
    "TASK=1\n",
    "SAVE_ROOT=\"F:/A-ROAD-CHALL/new_video_test/SAVE/\"\n",
    "EXP_ID=\"task1\"\n",
    "\n",
    "! python main.py --TASK=1 --DATA_ROOT=\"/root/autodl-tmp/road-dataset-master/\" --pretrained_model_path=\"/root/autodl-tmp/road-dataset-master/ROAD-R-2023-Challenge-main_me/pretrainmodel/swin-large-p244-w877_in22k-pre_16xb8-amp-32x2x1-30e_kinetics700-rgb_20220930-f8d74db7.pth\" --pretrained_model_path2=\"/root/autodl-tmp/road-dataset-master/ROAD-R-2023-Challenge-main_me/pretrainmodel/pretrained_weights_task1.pth\" --MODEL_PATH=\"/root/autodl-tmp/road-dataset-master/ROAD-R-2023-Challenge-main_me/kinetics-pt/\" --SAVE_ROOT=\"/root/autodl-tmp/road-dataset-master/SAVE/\" --MODE=\"train\" --LOGIC=\"Lukasiewicz\" --VAL_STEP=1 --LR=6e-5 --MAX_EPOCHS=25"
   ]
  },
  {
   "cell_type": "code",
   "execution_count": null,
   "metadata": {},
   "outputs": [],
   "source": []
  },
  {
   "cell_type": "markdown",
   "metadata": {},
   "source": [
    "### Resuming the training\n",
    "To resume the training of a model, provide the path to the directory containing the checkpoint from which the experiment should be resumed in the `EXP_NAME` argument.\n",
    "If the last completed epoch was number 100, the training can be resumed by specifying `--RESUME=100` in the training command."
   ]
  },
  {
   "cell_type": "code",
   "execution_count": null,
   "metadata": {
    "collapsed": false,
    "jupyter": {
     "outputs_hidden": false
    },
    "tags": []
   },
   "outputs": [],
   "source": [
    "DATA_ROOT=\"../\" # should contain a directory named road\n",
    "EXPDIR=\"../experiments/\" # the directory where the experiments will be stored; recommended for it to be located outside the repository, e.g. ../experiments/\n",
    "MODEL_PATH=\"../kinetics-pt/\" # should contain the .pth checkpoint for the specified args.MODEL_TYPE (e.g. resnet50RCGRU.pth if args.MODEL_TYPE==\"RCGRU\")\n",
    "\n",
    "TASK=1\n",
    "EXP_ID=\"task1\"\n",
    "EXP_NAME=\"../root/autodl-tmp/road-dataset-master/SAVE/road/logic-ssl_cache_Lukasiewicz_5.0/resnet50RCGRU512-Pkinetics-b20s8x1x1-roadt1-h3x3x3-09-26-15-06-34x/\"\n",
    "\n",
    "! python main.py --TASK=1 --EXP_NAME=\"/root/autodl-tmp/road-dataset-master/SAVE/road/logic-ssl_cache_Lukasiewicz_8.0/resnet50RCGRU512-Pkinetics-b10s16x1x1-roadt1-h3x3x3-10-20-13-53-20x/\" --RESUME=1 --EXPDIR=\"/root/autodl-tmp/road-dataset-master/experiments/\" --DATA_ROOT=\"/root/autodl-tmp/road-dataset-master/\" --pretrained_model_path=\"/root/autodl-tmp/road-dataset-master/ROAD-R-2023-Challenge-main_me/pretrainmodel/swin-large-p244-w877_in22k-pre_16xb8-amp-32x2x1-30e_kinetics700-rgb_20220930-f8d74db7.pth\" --pretrained_model_path2=\"/root/autodl-tmp/road-dataset-master/ROAD-R-2023-Challenge-main_me/pretrainmodel/pretrained_weights_task1.pth\" --MODEL_PATH=\"/root/autodl-tmp/road-dataset-master/ROAD-R-2023-Challenge-main_me/kinetics-pt/\" --SAVE_ROOT=\"/root/autodl-tmp/road-dataset-master/SAVE/\" --MODE=\"train\" --LOGIC=\"Lukasiewicz\" --VAL_STEP=1 --LR=8e-5 --MAX_EPOCHS=25"
   ]
  },
  {
   "cell_type": "markdown",
   "metadata": {},
   "source": [
    "### Evaluating the model\n",
    "\n",
    "Similarly to resuming the training, the experiment's path must be provided in the `EXP_NAME` argument.\n",
    "Additionally, the `MODE` argument must be set to \"gen_dets\" and `TEST_SUBSETS` to \"test\".\n",
    "\n",
    "To evaluate the model at epoch 130, provide `--EVAL_EPOCHS=130` in the command line.\n"
   ]
  },
  {
   "cell_type": "code",
   "execution_count": null,
   "metadata": {
    "collapsed": false,
    "jupyter": {
     "outputs_hidden": false
    },
    "tags": []
   },
   "outputs": [],
   "source": [
    "DATA_ROOT=\"../\" # should contain a directory named road\n",
    "EXPDIR=\"../experiments/\" # the directory where the experiments will be stored; recommended for it to be located outside the repository, e.g. ../experiments/\n",
    "MODEL_PATH=\"../kinetics-pt/\" # should contain the .pth checkpoint for the specified args.MODEL_TYPE (e.g. resnet50RCGRU.pth if args.MODEL_TYPE==\"RCGRU\")\n",
    "\n",
    "TASK=1\n",
    "EXP_ID=\"task1\"\n",
    "EXP_NAME=\"../experiments/task1/\"\n",
    "\n",
    "! python main.py --RESUME=20 --TASK=1 --LOGIC=\"Lukasiewicz\" --EXPDIR=\"/root/autodl-tmp/road-dataset-master/experiments/\" --DATA_ROOT=\"/root/autodl-tmp/road-dataset-master/\" --pretrained_model_path=\"/root/autodl-tmp/road-dataset-master/ROAD-R-2023-Challenge-main_me/pretrainmodel/swin-large-p244-w877_in22k-pre_16xb8-amp-32x2x1-30e_kinetics700-rgb_20220930-f8d74db7.pth\" --pretrained_model_path2=\"/root/autodl-tmp/road-dataset-master/ROAD-R-2023-Challenge-main_me/pretrainmodel/pretrained_weights_task1.pth\" --MODEL_PATH=\"/root/autodl-tmp/road-dataset-master/ROAD-R-2023-Challenge-main_me/kinetics-pt/\" --SAVE_ROOT=\"/root/autodl-tmp/road-dataset-master/SAVE/\" --MODE=\"gen_dets\" --TEST_SUBSETS=test --EVAL_EPOCHS=20 --EXP_NAME=\"/root/autodl-tmp/road-dataset-master/SAVE/road/logic-ssl_cache_Lukasiewicz_8.0/resnet50RCGRU512-Pkinetics-b8s16x1x1-roadt1-h3x3x3-10-22-21-27-50x/\""
   ]
  }
 ],
 "metadata": {
  "kernelspec": {
   "display_name": "Python 3 (ipykernel)",
   "language": "python",
   "name": "python3"
  },
  "language_info": {
   "codemirror_mode": {
    "name": "ipython",
    "version": 3
   },
   "file_extension": ".py",
   "mimetype": "text/x-python",
   "name": "python",
   "nbconvert_exporter": "python",
   "pygments_lexer": "ipython3",
   "version": "3.8.10"
  }
 },
 "nbformat": 4,
 "nbformat_minor": 4
}
