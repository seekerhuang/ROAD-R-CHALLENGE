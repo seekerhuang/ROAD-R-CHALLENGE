{
 "cells": [
  {
   "cell_type": "markdown",
   "metadata": {},
   "source": [
    "# Task 2"
   ]
  },
  {
   "cell_type": "markdown",
   "metadata": {},
   "source": [
    "### Training the model\n",
    "\n",
    "To train the model, provide the following positional arguments:\n",
    "   - `TASK`: set to 2 to use all 15 videos from the training partition train_1.\n",
    "   - `DATA_ROOT`: path to a directory in which `road` can be found, containing `road_test_v1.0.json`, `road_trainval_v1.0.json`, and directories `rgb-images` and `videos`.\n",
    "   - `SAVE_ROOT`: path to a directory in which the experiments (e.g. checkpoints, training logs) will be saved.\n",
    "   - `MODEL_PATH`: path to the directory containing the weights for the chosen backbone (e.g. `resnet50RCGRU.pth`).\n",
    "\n",
    "The remaining arguments are optional and include `MODEL_TYPE`, `BATCH_SIZE`, `MAX_EPOCHS`, `LOGIC`."
   ]
  },
  {
   "cell_type": "code",
   "execution_count": null,
   "metadata": {
    "collapsed": false,
    "jupyter": {
     "outputs_hidden": false
    },
    "tags": []
   },
   "outputs": [],
   "source": [
    "# Example (b): training with Lukasiewicz t-norm-based loss.\n",
    "\n",
    "DATA_ROOT=\"../\" # should contain a directory named road\n",
    "EXPDIR=\"../experiments/\" # the directory where the experiments will be stored; recommended for it to be located outside the repository, e.g. ../experiments/\n",
    "MODEL_PATH=\"../kinetics-pt/\" # should contain the .pth checkpoint for the specified args.MODEL_TYPE (e.g. resnet50RCGRU.pth if args.MODEL_TYPE==\"RCGRU\")\n",
    "\n",
    "TASK=2\n",
    "EXP_ID=\"task2\"\n",
    "LOGIC=\"Lukasiewicz\"\n",
    "! python main.py --RESUME=1 --TASK=2 --EXP_NAME=\"/root/autodl-tmp/road-dataset-master/SAVE/road/logic-ssl_cache_Lukasiewicz_8.0/resnet50RCGRU512-Pkinetics-b15s16x1x1-roadt1t2t3-h3x3x3-10-23-22-54-45x/\"  --EXPDIR=\"/root/autodl-tmp/road-dataset-master/experiments/\" --DATA_ROOT=\"/root/autodl-tmp/road-dataset-master/\" --pretrained_model_path=\"/root/autodl-tmp/road-dataset-master/ROAD-R-2023-Challenge-main_me/pretrainmodel/swin-large-p244-w877_in22k-pre_16xb8-amp-32x2x1-30e_kinetics700-rgb_20220930-f8d74db7.pth\" --pretrained_model_path2=\"/root/autodl-tmp/road-dataset-master/ROAD-R-2023-Challenge-main_me/pretrainmodel/pretrained_weights_task2.pth\" --MODEL_PATH=\"/root/autodl-tmp/road-dataset-master/ROAD-R-2023-Challenge-main_me/kinetics-pt/\" --SAVE_ROOT=\"/root/autodl-tmp/road-dataset-master/SAVE/\" --MODE=\"train\" --LOGIC=\"Lukasiewicz\" --VAL_STEP=1 --LR=9e-5 --MAX_EPOCHS=25"
   ]
  },
  {
   "cell_type": "code",
   "execution_count": null,
   "metadata": {
    "collapsed": false,
    "jupyter": {
     "outputs_hidden": false
    },
    "tags": []
   },
   "outputs": [],
   "source": [
    "# Example (b): training with Lukasiewicz t-norm-based loss.\n",
    "\n",
    "DATA_ROOT=\"../\" # should contain a directory named road\n",
    "EXPDIR=\"../experiments/\" # the directory where the experiments will be stored; recommended for it to be located outside the repository, e.g. ../experiments/\n",
    "MODEL_PATH=\"../kinetics-pt/\" # should contain the .pth checkpoint for the specified args.MODEL_TYPE (e.g. resnet50RCGRU.pth if args.MODEL_TYPE==\"RCGRU\")\n",
    "\n",
    "TASK=2\n",
    "EXP_ID=\"task2\"\n",
    "LOGIC=\"Lukasiewicz\"\n",
    "! python main.py --TASK=2 --EXPDIR=\"/root/autodl-tmp/road-dataset-master/experiments/\" --DATA_ROOT=\"/root/autodl-tmp/road-dataset-master/\" --pretrained_model_path=\"/root/autodl-tmp/road-dataset-master/ROAD-R-2023-Challenge-main_me/pretrainmodel/swin-large-p244-w877_in22k-pre_16xb8-amp-32x2x1-30e_kinetics700-rgb_20220930-f8d74db7.pth\" --pretrained_model_path2=\"/root/autodl-tmp/road-dataset-master/ROAD-R-2023-Challenge-main_me/pretrainmodel/pretrained_weights_task1.pth\" --MODEL_PATH=\"/root/autodl-tmp/road-dataset-master/ROAD-R-2023-Challenge-main_me/kinetics-pt/\" --SAVE_ROOT=\"/root/autodl-tmp/road-dataset-master/SAVE/\" --MODE=\"train\" --LOGIC=\"Lukasiewicz\" --VAL_STEP=1 --LR=0.00012 --MAX_EPOCHS=30"
   ]
  },
  {
   "cell_type": "markdown",
   "metadata": {},
   "source": [
    "### Resuming the training\n",
    "To resume the training of a model, provide the path to the directory containing the checkpoint from which the experiment should be resumed in the `EXP_NAME` argument.\n",
    "If the last completed epoch was number 15, the training can be resumed by specifying `--RESUME=15` in the training command."
   ]
  },
  {
   "cell_type": "code",
   "execution_count": null,
   "metadata": {
    "collapsed": false,
    "jupyter": {
     "outputs_hidden": false
    },
    "tags": []
   },
   "outputs": [],
   "source": [
    "# Example (b): training with Lukasiewicz t-norm-based loss.\n",
    "\n",
    "DATA_ROOT=\"../\" # should contain a directory named road\n",
    "EXPDIR=\"../experiments/\" # the directory where the experiments will be stored; recommended for it to be located outside the repository, e.g. ../experiments/\n",
    "MODEL_PATH=\"../kinetics-pt/\" # should contain the .pth checkpoint for the specified args.MODEL_TYPE (e.g. resnet50RCGRU.pth if args.MODEL_TYPE==\"RCGRU\")\n",
    "\n",
    "TASK=2\n",
    "EXP_ID=\"task2\"\n",
    "LOGIC=\"Lukasiewicz\"\n",
    "EXP_NAME=\"../experiments/task2/road/logic-ssl_cache_Lukasiewicz_10.0/resnet50RCGRU512-Pkinetics-b4s8x1x1-roadt1-h3x3x3-05-01-01-01-01x/\"\n",
    "\n",
    "! python main.py {TASK} {DATA_ROOT} {EXPDIR}/{EXP_ID}/ {MODEL_PATH} --MODE=\"train\" --VAL_STEP=2 --LR=0.0041 --MAX_EPOCHS=30 --MILESTONES=20,25 --LOGIC={LOGIC} --EXP_NAME={EXP_NAME} --RESUME=15"
   ]
  },
  {
   "cell_type": "markdown",
   "metadata": {},
   "source": [
    "### Evaluating the model\n",
    "\n",
    "Similarly to resuming the training, the experiment's path must be provided in the `EXP_NAME` argument.\n",
    "Additionally, the `MODE` argument must be set to \"gen_dets\" and `TEST_SUBSETS` to \"test\".\n",
    "\n",
    "To evaluate the model at epoch 130, provide `--EVAL_EPOCHS=130` in the command line.\n"
   ]
  },
  {
   "cell_type": "code",
   "execution_count": null,
   "metadata": {
    "collapsed": false,
    "jupyter": {
     "outputs_hidden": false
    },
    "tags": []
   },
   "outputs": [],
   "source": [
    "# Example (b): training with Lukasiewicz t-norm-based loss.\n",
    "\n",
    "DATA_ROOT=\"../\" # should contain a directory named road\n",
    "EXPDIR=\"../experiments/\" # the directory where the experiments will be stored; recommended for it to be located outside the repository, e.g. ../experiments/\n",
    "MODEL_PATH=\"../kinetics-pt/\" # should contain the .pth checkpoint for the specified args.MODEL_TYPE (e.g. resnet50RCGRU.pth if args.MODEL_TYPE==\"RCGRU\")\n",
    "\n",
    "TASK=2\n",
    "EXP_ID=\"task2\"\n",
    "LOGIC=\"Lukasiewicz\"\n",
    "EXP_NAME=\"../experiments/task2/road/logic-ssl_cache_Lukasiewicz_10.0/resnet50RCGRU512-Pkinetics-b4s8x1x1-roadt1-h3x3x3-05-01-01-01-01x/\"\n",
    "! python main.py --RESUME=22 --TASK=2 --MODEL_PATH=\"/root/autodl-tmp/road-dataset-master/ROAD-R-2023-Challenge-main_me/kinetics-pt/\" --EXPDIR=\"/root/autodl-tmp/road-dataset-master/experiments/\" --DATA_ROOT=\"/root/autodl-tmp/road-dataset-master/\" --TEST_SUBSETS=test --EVAL_EPOCHS=22 --pretrained_model_path=\"/root/autodl-tmp/road-dataset-master/ROAD-R-2023-Challenge-main_me/pretrainmodel/swin-large-p244-w877_in22k-pre_16xb8-amp-32x2x1-30e_kinetics700-rgb_20220930-f8d74db7.pth\" --pretrained_model_path2=\"/root/autodl-tmp/road-dataset-master/ROAD-R-2023-Challenge-main_me/pretrainmodel/pretrained_weights_task2.pth\"  --SAVE_ROOT=\"/root/autodl-tmp/road-dataset-master/SAVE2/\" --EXP_NAME=\"/root/autodl-tmp/road-dataset-master/SAVE/road/logic-ssl_cache_Lukasiewicz_8.0/resnet50RCGRU512-Pkinetics-b15s16x1x1-roadt1t2t3-h3x3x3-10-23-22-54-45x/\" --MODE=\"gen_dets\" --LOGIC=\"Lukasiewicz\""
   ]
  },
  {
   "cell_type": "code",
   "execution_count": null,
   "metadata": {},
   "outputs": [],
   "source": [
    "\n",
    "\n",
    "\n",
    "# ! python post_processing.py --file_path=\"/root/autodl-tmp/road-dataset-master/SAVE/road/logic-ssl_cache_Lukasiewicz_8.0/resnet50RCGRU512-Pkinetics-b20s8x1x1-roadt1t2t3-h3x3x3-10-03-17-52-36x/pred_detections-21-80-50_test.pkl\" --requirements_path=\"/root/autodl-tmp/road-dataset-master/ROAD-R-2023-Challenge-main_me/constraints/WDIMACS_requirements.txt\" "
   ]
  },
  {
   "cell_type": "markdown",
   "metadata": {},
   "source": [
    "### Postprocessing the predictions\n",
    "\n",
    "To postprocess the predictions, and thus guarantee that the requirements are satisfied, use the output `.pkl` file (from `EXP_NAME`) as input to the postprocessing module, based on the [MaxHS solver](https://github.com/fbacchus/MaxHS/tree/master), from `postprocessing/`.\n"
   ]
  }
 ],
 "metadata": {
  "kernelspec": {
   "display_name": "Python 3 (ipykernel)",
   "language": "python",
   "name": "python3"
  },
  "language_info": {
   "codemirror_mode": {
    "name": "ipython",
    "version": 3
   },
   "file_extension": ".py",
   "mimetype": "text/x-python",
   "name": "python",
   "nbconvert_exporter": "python",
   "pygments_lexer": "ipython3",
   "version": "3.8.10"
  }
 },
 "nbformat": 4,
 "nbformat_minor": 4
}
